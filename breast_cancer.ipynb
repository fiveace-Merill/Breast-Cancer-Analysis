{
 "cells": [
  {
   "cell_type": "markdown",
   "id": "59269ad9-a6d5-4de1-aa2d-156ac326f187",
   "metadata": {},
   "source": [
    "# Automating data import with python Pandas, loading into a postgres database, and visualizing with Power BI."
   ]
  },
  {
   "cell_type": "code",
   "execution_count": 8,
   "id": "799806e8-be07-4aec-ad82-5b5b37d80c5c",
   "metadata": {},
   "outputs": [],
   "source": [
    "import pandas as pd\n",
    "import os\n",
    "from dotenv import load_dotenv\n",
    "from sqlalchemy import create_engine"
   ]
  },
  {
   "cell_type": "code",
   "execution_count": 30,
   "id": "adcc26e8-c588-4436-a5f1-c0b9439b9de0",
   "metadata": {},
   "outputs": [
    {
     "name": "stdout",
     "output_type": "stream",
     "text": [
      "D:\\automating-data-imports-with-python\n"
     ]
    }
   ],
   "source": [
    "import os\n",
    "print(os.getcwd())"
   ]
  },
  {
   "cell_type": "code",
   "execution_count": 41,
   "id": "f8f8e374-2e51-4def-b11a-b157b6d80aa7",
   "metadata": {},
   "outputs": [
    {
     "name": "stdout",
     "output_type": "stream",
     "text": [
      "DB_USER: postgres\n",
      "DB_PASSWORD: 1234\n",
      "DB_HOST: localhost\n",
      "DB_PORT: 5432\n",
      "DB_NAME: breast_cancer\n"
     ]
    }
   ],
   "source": [
    "# Load .env file — force override in case it was cached before\n",
    "load_dotenv(dotenv_path=\"D:/automating-data-imports-with-python/.env.txt\", override=True)\n",
    "\n",
    "# Fetch environment variables\n",
    "DB_USER = os.getenv('DB_USER')\n",
    "DB_PASSWORD = os.getenv('DB_PASSWORD')\n",
    "DB_HOST = os.getenv('DB_HOST')\n",
    "DB_PORT = os.getenv('DB_PORT')\n",
    "DB_NAME = os.getenv('DB')  # renamed for clarity\n",
    "\n",
    "# Print them to verify (optional; remove sensitive ones in real usage)\n",
    "print(\"DB_USER:\", DB_USER)\n",
    "print(\"DB_PASSWORD:\", DB_PASSWORD)  # be careful with this in real apps\n",
    "print(\"DB_HOST:\", DB_HOST)\n",
    "print(\"DB_PORT:\", DB_PORT)\n",
    "print(\"DB_NAME:\", DB_NAME)\n"
   ]
  },
  {
   "cell_type": "markdown",
   "id": "a42f9934-4560-4172-b9a4-84520e146761",
   "metadata": {},
   "source": [
    "* Import the CSV file and load it into a pandas dataframe."
   ]
  },
  {
   "cell_type": "code",
   "execution_count": 52,
   "id": "a16c4680-a356-4b14-86c2-563d54c179f8",
   "metadata": {},
   "outputs": [],
   "source": [
    "def create_dataframe(path):\n",
    "    df = pd.read_csv(path)\n",
    "    return df\n",
    "    "
   ]
  },
  {
   "cell_type": "markdown",
   "id": "d964a5af-55ef-4a1d-a80e-6367be749f5a",
   "metadata": {},
   "source": [
    "* HIghlight the structure and nature of the dataset."
   ]
  },
  {
   "cell_type": "code",
   "execution_count": 10,
   "id": "3abc35bc-90f3-43dd-aeb3-24352ac6cca2",
   "metadata": {},
   "outputs": [],
   "source": [
    "def check_dataset(dataframe,head=5):\n",
    "    print(20*\"#\", \"HEAD\", 20*\"#\")\n",
    "    print(dataframe.head(head))\n",
    "    print(20*\"#\", \"TAIL\", 20*\"#\")\n",
    "    print(dataframe.tail(head))\n",
    "    print(20*\"#\", \"SHAPE\", 20*\"#\")\n",
    "    print(dataframe.shape)\n",
    "    print(20*\"#\", \"TYPES\", 20*\"#\")\n",
    "    print(dataframe.dtypes)\n",
    "    print(20*\"#\", \"NA\", 20*\"#\")\n",
    "    print(dataframe.isnull().sum())\n",
    "    print(20*\"#\", \"QUARTILES\", 20*\"#\")\n",
    "    print(dataframe.describe([0.01,0.05,0.1,0.2,0.3,0.4,0.5,0.6,0.7,0.8,0.9,0.95,0.99]).T)"
   ]
  },
  {
   "cell_type": "code",
   "execution_count": 44,
   "id": "e9c4e5c5-c237-4e8e-9338-53b429123567",
   "metadata": {},
   "outputs": [],
   "source": [
    "def clean_dataset(dataframe):\n",
    "    clean_data = dataframe\n",
    "    return clean_data"
   ]
  },
  {
   "cell_type": "code",
   "execution_count": 50,
   "id": "3e1534be-eb8e-459d-a80e-a5a6cbc5a562",
   "metadata": {},
   "outputs": [],
   "source": [
    "def load_dataset(dataframe):\n",
    "    try:\n",
    "        engine = create_engine(\n",
    "            f'postgresql+psycopg2://{DB_USER}:{DB_PASSWORD}@{DB_HOST}:{DB_PORT}/{DB_NAME}'\n",
    "        )\n",
    "        \n",
    "        # Optional: check connection\n",
    "        with engine.connect() as conn:\n",
    "            print(\"✅ Database connection successful.\")\n",
    "\n",
    "        # Call your cleaning function\n",
    "        clean_data = clean_dataset(dataframe)\n",
    "\n",
    "        # Load to PostgreSQL\n",
    "        clean_data.to_sql('patients', engine, if_exists='replace', schema='patients')\n",
    "\n",
    "        print(\"✅ Dataset successfully loaded.\")\n",
    "    \n",
    "    except Exception as e:\n",
    "        print(f\"❌ Error loading dataset: {e}\")"
   ]
  },
  {
   "cell_type": "code",
   "execution_count": 53,
   "id": "b187f092-ceab-4acf-8c06-6658f6b4ee18",
   "metadata": {},
   "outputs": [],
   "source": [
    "breast_cancer = \"Breast_Cancer.csv\"\n",
    "df = create_dataframe(breast_cancer)"
   ]
  },
  {
   "cell_type": "code",
   "execution_count": 55,
   "id": "e20d485c-6035-40ce-a457-ae842e2a18a4",
   "metadata": {},
   "outputs": [
    {
     "name": "stdout",
     "output_type": "stream",
     "text": [
      "#################### HEAD ####################\n",
      "   Age   Race Marital Status T Stage  N Stage 6th Stage  \\\n",
      "0   68  White        Married       T1      N1       IIA   \n",
      "1   50  White        Married       T2      N2      IIIA   \n",
      "2   58  White       Divorced       T3      N3      IIIC   \n",
      "3   58  White        Married       T1      N1       IIA   \n",
      "4   47  White        Married       T2      N1       IIB   \n",
      "\n",
      "               differentiate Grade   A Stage  Tumor Size Estrogen Status  \\\n",
      "0      Poorly differentiated     3  Regional           4        Positive   \n",
      "1  Moderately differentiated     2  Regional          35        Positive   \n",
      "2  Moderately differentiated     2  Regional          63        Positive   \n",
      "3      Poorly differentiated     3  Regional          18        Positive   \n",
      "4      Poorly differentiated     3  Regional          41        Positive   \n",
      "\n",
      "  Progesterone Status  Regional Node Examined  Reginol Node Positive  \\\n",
      "0            Positive                      24                      1   \n",
      "1            Positive                      14                      5   \n",
      "2            Positive                      14                      7   \n",
      "3            Positive                       2                      1   \n",
      "4            Positive                       3                      1   \n",
      "\n",
      "   Survival Months Status  \n",
      "0               60  Alive  \n",
      "1               62  Alive  \n",
      "2               75  Alive  \n",
      "3               84  Alive  \n",
      "4               50  Alive  \n",
      "#################### TAIL ####################\n",
      "      Age   Race Marital Status T Stage  N Stage 6th Stage  \\\n",
      "4019   62  Other        Married       T1      N1       IIA   \n",
      "4020   56  White       Divorced       T2      N2      IIIA   \n",
      "4021   68  White        Married       T2      N1       IIB   \n",
      "4022   58  Black       Divorced       T2      N1       IIB   \n",
      "4023   46  White        Married       T2      N1       IIB   \n",
      "\n",
      "                  differentiate Grade   A Stage  Tumor Size Estrogen Status  \\\n",
      "4019  Moderately differentiated     2  Regional           9        Positive   \n",
      "4020  Moderately differentiated     2  Regional          46        Positive   \n",
      "4021  Moderately differentiated     2  Regional          22        Positive   \n",
      "4022  Moderately differentiated     2  Regional          44        Positive   \n",
      "4023  Moderately differentiated     2  Regional          30        Positive   \n",
      "\n",
      "     Progesterone Status  Regional Node Examined  Reginol Node Positive  \\\n",
      "4019            Positive                       1                      1   \n",
      "4020            Positive                      14                      8   \n",
      "4021            Negative                      11                      3   \n",
      "4022            Positive                      11                      1   \n",
      "4023            Positive                       7                      2   \n",
      "\n",
      "      Survival Months Status  \n",
      "4019               49  Alive  \n",
      "4020               69  Alive  \n",
      "4021               69  Alive  \n",
      "4022               72  Alive  \n",
      "4023              100  Alive  \n",
      "#################### SHAPE ####################\n",
      "(4024, 16)\n",
      "#################### TYPES ####################\n",
      "Age                        int64\n",
      "Race                      object\n",
      "Marital Status            object\n",
      "T Stage                   object\n",
      "N Stage                   object\n",
      "6th Stage                 object\n",
      "differentiate             object\n",
      "Grade                     object\n",
      "A Stage                   object\n",
      "Tumor Size                 int64\n",
      "Estrogen Status           object\n",
      "Progesterone Status       object\n",
      "Regional Node Examined     int64\n",
      "Reginol Node Positive      int64\n",
      "Survival Months            int64\n",
      "Status                    object\n",
      "dtype: object\n",
      "#################### NA ####################\n",
      "Age                       0\n",
      "Race                      0\n",
      "Marital Status            0\n",
      "T Stage                   0\n",
      "N Stage                   0\n",
      "6th Stage                 0\n",
      "differentiate             0\n",
      "Grade                     0\n",
      "A Stage                   0\n",
      "Tumor Size                0\n",
      "Estrogen Status           0\n",
      "Progesterone Status       0\n",
      "Regional Node Examined    0\n",
      "Reginol Node Positive     0\n",
      "Survival Months           0\n",
      "Status                    0\n",
      "dtype: int64\n",
      "#################### QUARTILES ####################\n",
      "                         count       mean        std   min    1%     5%   10%  \\\n",
      "Age                     4024.0  53.972167   8.963134  30.0  33.0  39.00  42.0   \n",
      "Tumor Size              4024.0  30.473658  21.119696   1.0   4.0   9.00  12.0   \n",
      "Regional Node Examined  4024.0  14.357107   8.099675   1.0   1.0   2.00   4.0   \n",
      "Reginol Node Positive   4024.0   4.158052   5.109331   1.0   1.0   1.00   1.0   \n",
      "Survival Months         4024.0  71.297962  22.921430   1.0   8.0  26.15  44.0   \n",
      "\n",
      "                         20%   30%   40%   50%   60%   70%   80%    90%  \\\n",
      "Age                     46.0  49.0  51.0  54.0  57.0  60.0  63.0   66.0   \n",
      "Tumor Size              15.0  18.0  20.0  25.0  28.0  35.0  43.0   60.0   \n",
      "Regional Node Examined   8.0  10.0  12.0  14.0  16.0  18.0  20.0   25.0   \n",
      "Reginol Node Positive    1.0   1.0   2.0   2.0   3.0   4.0   6.0   10.0   \n",
      "Survival Months         53.0  60.0  66.0  73.0  80.0  86.0  94.0  100.0   \n",
      "\n",
      "                          95%     99%    max  \n",
      "Age                      68.0   69.00   69.0  \n",
      "Tumor Size               75.0  102.54  140.0  \n",
      "Regional Node Examined   28.0   38.77   61.0  \n",
      "Reginol Node Positive    15.0   26.00   46.0  \n",
      "Survival Months         103.0  107.00  107.0  \n"
     ]
    }
   ],
   "source": [
    "check_dataset(df)"
   ]
  },
  {
   "cell_type": "code",
   "execution_count": 54,
   "id": "6efde8b6-218a-4461-b3ea-18c3e504fc16",
   "metadata": {},
   "outputs": [
    {
     "name": "stdout",
     "output_type": "stream",
     "text": [
      "✅ Database connection successful.\n",
      "✅ Dataset successfully loaded.\n"
     ]
    }
   ],
   "source": [
    "load_dataset(df)"
   ]
  },
  {
   "cell_type": "code",
   "execution_count": null,
   "id": "5210b2a2-26ad-44cc-b51e-fbc82c96a2cd",
   "metadata": {},
   "outputs": [],
   "source": []
  }
 ],
 "metadata": {
  "kernelspec": {
   "display_name": "Python 3 (ipykernel)",
   "language": "python",
   "name": "python3"
  },
  "language_info": {
   "codemirror_mode": {
    "name": "ipython",
    "version": 3
   },
   "file_extension": ".py",
   "mimetype": "text/x-python",
   "name": "python",
   "nbconvert_exporter": "python",
   "pygments_lexer": "ipython3",
   "version": "3.13.3"
  }
 },
 "nbformat": 4,
 "nbformat_minor": 5
}
